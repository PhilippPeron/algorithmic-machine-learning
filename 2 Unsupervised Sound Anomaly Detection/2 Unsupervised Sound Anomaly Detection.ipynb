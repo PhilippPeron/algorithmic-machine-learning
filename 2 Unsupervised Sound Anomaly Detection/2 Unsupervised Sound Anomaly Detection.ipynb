{
 "cells": [
  {
   "cell_type": "markdown",
   "id": "78c1e2f9",
   "metadata": {
    "papermill": {
     "duration": 0.030163,
     "end_time": "2022-05-25T18:02:25.870919",
     "exception": false,
     "start_time": "2022-05-25T18:02:25.840756",
     "status": "completed"
    },
    "tags": []
   },
   "source": [
    "# Required Python Packages\n",
    "\n",
    "Let's install some python packages used in this notebook."
   ]
  },
  {
   "cell_type": "markdown",
   "id": "a9c6cb56",
   "metadata": {
    "papermill": {
     "duration": 0.027163,
     "end_time": "2022-05-25T18:02:25.926144",
     "exception": false,
     "start_time": "2022-05-25T18:02:25.898981",
     "status": "completed"
    },
    "tags": []
   },
   "source": [
    "To import our own functions, you could upload the .py files in the input folder and do as we do for the \"common.py\" and \"pytorch_common.py\" files."
   ]
  },
  {
   "cell_type": "code",
   "execution_count": 1,
   "id": "62306e20",
   "metadata": {
    "execution": {
     "iopub.execute_input": "2022-05-25T18:02:25.983832Z",
     "iopub.status.busy": "2022-05-25T18:02:25.983368Z",
     "iopub.status.idle": "2022-05-25T18:02:30.363340Z",
     "shell.execute_reply": "2022-05-25T18:02:30.362121Z"
    },
    "papermill": {
     "duration": 4.413087,
     "end_time": "2022-05-25T18:02:30.366501",
     "exception": false,
     "start_time": "2022-05-25T18:02:25.953414",
     "status": "completed"
    },
    "scrolled": true,
    "tags": []
   },
   "outputs": [],
   "source": [
    "from shutil import copyfile\n",
    "\n",
    "# public modules\n",
    "import os\n",
    "import sklearn\n",
    "import torch\n",
    "import torch.nn.functional as F\n",
    "import random\n",
    "import librosa\n",
    "import os\n",
    "import glob\n",
    "import csv\n",
    "import re\n",
    "import itertools\n",
    "import sys\n",
    "import path\n",
    "import numpy as np\n",
    "import seaborn as sns\n",
    "from torch import nn\n",
    "from torch.utils.data import Dataset\n",
    "from torch.utils.data import DataLoader\n",
    "from tqdm import tqdm\n",
    "from sklearn import metrics\n",
    "from sklearn.metrics import roc_auc_score"
   ]
  },
  {
   "cell_type": "code",
   "execution_count": 2,
   "id": "ebd9f179",
   "metadata": {
    "execution": {
     "iopub.execute_input": "2022-05-25T18:02:30.426169Z",
     "iopub.status.busy": "2022-05-25T18:02:30.425332Z",
     "iopub.status.idle": "2022-05-25T18:02:30.443546Z",
     "shell.execute_reply": "2022-05-25T18:02:30.442565Z"
    },
    "papermill": {
     "duration": 0.049946,
     "end_time": "2022-05-25T18:02:30.445779",
     "exception": false,
     "start_time": "2022-05-25T18:02:30.395833",
     "status": "completed"
    },
    "tags": []
   },
   "outputs": [],
   "source": [
    "def time_mask(src_melspec, T, mT, p):\n",
    "    melspec = np.copy(src_melspec)\n",
    "    num_time_steps = melspec.shape[1] \n",
    "    for i in range(mT):\n",
    "        t = 9999\n",
    "        while(p*num_time_steps < t):\n",
    "            t = np.uint16(np.random.uniform(0, T))\n",
    "        t0 = np.uint16(np.random.uniform(1, num_time_steps - t))\n",
    "        melspec[:,t0:t0+t+1] = melspec.mean() \n",
    "    return melspec\n",
    "    \n",
    "def frequency_mask(src_melspec, F, mF):\n",
    "    melspec = np.copy(src_melspec)\n",
    "    nmels = melspec.shape[0]\n",
    "    for i in range(mF):\n",
    "        f = np.uint16(np.random.uniform(0, F))\n",
    "        f0 = np.uint16(np.random.uniform(0, nmels - f))\n",
    "        melspec[f0:f0+f+1,:] = melspec.mean()\n",
    "    return melspec\n",
    "\n",
    "def data_aug(src_mel_spec, policy):\n",
    "    new_mel_spec = frequency_mask(src_mel_spec,policy[\"F\"], policy[\"mF\"])\n",
    "    new_mel_spec = time_mask(new_mel_spec,policy[\"T\"] ,policy[\"mT\"],policy[\"p\"])\n",
    "    return new_mel_spec\n",
    "\n",
    "def augment_data_set(dataset, policy, N):\n",
    "    aug_data = []\n",
    "    names = []\n",
    "    class_ = ''\n",
    "    k = 0\n",
    "    for i in tqdm(range(dataset.__len__())):\n",
    "        item = dataset.__getitem__(i)\n",
    "        aug_data.append(item[0])\n",
    "        if(item[3] == 1): class_ = 'normal_' \n",
    "        else: class_ = 'anomaly_'\n",
    "        names.append(class_ + 'id_' + str(item[2]) + str(k) + '_OG')\n",
    "        k += 1\n",
    "        for i in range(N):\n",
    "            new_mel_spec = data_aug(item[0],policy)\n",
    "            aug_data.append(new_mel_spec)\n",
    "            names.append((class_ + 'id_' + str(item[2]) + str(k) + '_aug_'+ str(i)))\n",
    "            k+=1\n",
    "    return np.array(aug_data), np.array(names)\n",
    "\n",
    "def augment_mel_spec(melspec, policy, N):\n",
    "    new_melspecs = []\n",
    "    new_melspecs.append(melspec)\n",
    "    for i in range(N):\n",
    "            new_mel_spec = data_aug(melspec,policy)\n",
    "            new_melspecs.append(new_mel_spec)\n",
    "    return np.array(new_melspecs)\n"
   ]
  },
  {
   "cell_type": "code",
   "execution_count": 3,
   "id": "33b57639",
   "metadata": {
    "execution": {
     "iopub.execute_input": "2022-05-25T18:02:30.502764Z",
     "iopub.status.busy": "2022-05-25T18:02:30.501983Z",
     "iopub.status.idle": "2022-05-25T18:02:30.514429Z",
     "shell.execute_reply": "2022-05-25T18:02:30.513422Z"
    },
    "papermill": {
     "duration": 0.043079,
     "end_time": "2022-05-25T18:02:30.516603",
     "exception": false,
     "start_time": "2022-05-25T18:02:30.473524",
     "status": "completed"
    },
    "tags": []
   },
   "outputs": [],
   "source": [
    "def file_to_matrix_vector(folder_path, file_name,n_mels=64, N_crops = 5,n_fft=1024,hop_length=512,power=2.0, crop_width = 64):\n",
    "    \n",
    "    y, sr = librosa.load(os.path.join(folder_path,file_name), sr=None)\n",
    "    mel_spectrogram = librosa.feature.melspectrogram(y=y,sr=sr,n_fft=n_fft,hop_length=hop_length,n_mels=n_mels,power=power)\n",
    "    log_mel_spectrogram = 20.0 / power * np.log10(mel_spectrogram + sys.float_info.epsilon)\n",
    "    \n",
    "    dim_y = np.uint16(n_mels)\n",
    "    dim_x = np.uint16(crop_width)    \n",
    "    matrix_vector = np.zeros((N_crops, dim_y, dim_x))\n",
    "    x = 0\n",
    "    for i in range(N_crops):\n",
    "        if(x+dim_x > log_mel_spectrogram.shape[1]):\n",
    "                    x -= x+dim_x - log_mel_spectrogram.shape[1]\n",
    "        matrix_vector[i, :, :] = log_mel_spectrogram[:,x:x+dim_x]\n",
    "        x += dim_x\n",
    "    return matrix_vector\n",
    "\n",
    "def aug_log_mel_spec_to_matrix_vector(log_mel_spectrogram,n_mels=64,N_crops=5, crop_width = 64):\n",
    "    '''\n",
    "    convert a log_mel_spectrogram (array) to a vector(array)\n",
    "    '''\n",
    "    dim_y = np.uint16(n_mels)\n",
    "    dim_x = np.uint16(crop_width)\n",
    "    matrix_vector = np.zeros((N_crops, dim_y, dim_x))\n",
    "    x = 0\n",
    "    for i in range(N_crops):\n",
    "        if(x+dim_x > log_mel_spectrogram.shape[1]):\n",
    "                    x -= x+dim_x - log_mel_spectrogram.shape[1]\n",
    "        matrix_vector[i, :, :] = log_mel_spectrogram[:,x:x+dim_x]\n",
    "        x += dim_x\n",
    "    return matrix_vector"
   ]
  },
  {
   "cell_type": "code",
   "execution_count": 4,
   "id": "08172431",
   "metadata": {
    "execution": {
     "iopub.execute_input": "2022-05-25T18:02:30.573830Z",
     "iopub.status.busy": "2022-05-25T18:02:30.573095Z",
     "iopub.status.idle": "2022-05-25T18:02:30.584048Z",
     "shell.execute_reply": "2022-05-25T18:02:30.583092Z"
    },
    "papermill": {
     "duration": 0.042641,
     "end_time": "2022-05-25T18:02:30.586185",
     "exception": false,
     "start_time": "2022-05-25T18:02:30.543544",
     "status": "completed"
    },
    "tags": []
   },
   "outputs": [],
   "source": [
    "def load_sg_to_array_Conv(folder, data_aug = {'augment' : False, 'policy' : None, 'N' : None} ,\n",
    "                       n_mels=128, n_fft=1024, hop_length=512, power=2.0\n",
    "                       ,N_crops=5, crop_width = 32):\n",
    "    spectrograms = []\n",
    "    i = 0\n",
    "    filenames = os.listdir(folder)\n",
    "    if data_aug['augment'] :\n",
    "        for filename in tqdm(filenames):\n",
    "            y, sr = librosa.load(os.path.join(folder,filename), sr=None)\n",
    "            mel_spec = librosa.feature.melspectrogram(y=y,sr=sr,n_fft=n_fft,hop_length=hop_length,n_mels=n_mels,power=power)\n",
    "            log_mel_spectrogram = 20.0 / power * np.log10(mel_spec + sys.float_info.epsilon)\n",
    "            \n",
    "            aug_lms = augment_mel_spec(log_mel_spectrogram, data_aug['policy'], data_aug['N'])\n",
    "            \n",
    "            for aug_spec in (aug_lms):\n",
    "                spec = aug_log_mel_spec_to_matrix_vector(aug_spec, n_mels, N_crops, crop_width)\n",
    "                spectrograms[i:i+ len(spec)] = spec[:]\n",
    "                i += len(spec)    \n",
    "    else :\n",
    "        for filename in tqdm(filenames):\n",
    "            spec = file_to_matrix_vector(folder,filename,n_mels,N_crops,n_fft,hop_length,power, crop_width)\n",
    "            spectrograms[i:i + len(spec)] = spec[:]\n",
    "            i += len(spec)\n",
    "    return np.array(spectrograms)"
   ]
  },
  {
   "cell_type": "markdown",
   "id": "53728539",
   "metadata": {
    "papermill": {
     "duration": 0.028276,
     "end_time": "2022-05-25T18:02:30.641819",
     "exception": false,
     "start_time": "2022-05-25T18:02:30.613543",
     "status": "completed"
    },
    "tags": []
   },
   "source": [
    "**BASELINE VAR**"
   ]
  },
  {
   "cell_type": "code",
   "execution_count": 5,
   "id": "7435aadf",
   "metadata": {
    "execution": {
     "iopub.execute_input": "2022-05-25T18:02:30.699290Z",
     "iopub.status.busy": "2022-05-25T18:02:30.698524Z",
     "iopub.status.idle": "2022-05-25T18:02:37.339764Z",
     "shell.execute_reply": "2022-05-25T18:02:37.338746Z"
    },
    "papermill": {
     "duration": 6.673084,
     "end_time": "2022-05-25T18:02:37.342391",
     "exception": false,
     "start_time": "2022-05-25T18:02:30.669307",
     "status": "completed"
    },
    "tags": []
   },
   "outputs": [],
   "source": [
    "from datetime import datetime\n",
    "import matplotlib.pyplot as plt\n",
    "import numpy as np\n",
    "import pandas as pd\n",
    "\n",
    "import keras\n",
    "from sklearn.preprocessing import MinMaxScaler\n",
    "\n",
    "import tensorflow as tf\n",
    "tf.compat.v1.disable_eager_execution()\n",
    "from keras.models import Model, load_model\n",
    "from keras.layers import Lambda, Input, Dense, Flatten, BatchNormalization, Activation, Reshape\n",
    "from keras.layers import Conv2D, Cropping2D, Conv2DTranspose\n",
    "from keras.losses import mse, binary_crossentropy, kl_divergence\n",
    "from tensorflow.keras import optimizers\n",
    "from keras import backend as K\n",
    "from keras import initializers\n",
    "\n",
    "from sklearn.model_selection import train_test_split\n",
    "from sklearn.preprocessing import MinMaxScaler, StandardScaler, PowerTransformer\n",
    "\n",
    "import seaborn as sns\n",
    "import matplotlib.pyplot as plt"
   ]
  },
  {
   "cell_type": "code",
   "execution_count": 6,
   "id": "5bed025e",
   "metadata": {
    "execution": {
     "iopub.execute_input": "2022-05-25T18:02:37.400090Z",
     "iopub.status.busy": "2022-05-25T18:02:37.399765Z",
     "iopub.status.idle": "2022-05-25T18:02:37.409247Z",
     "shell.execute_reply": "2022-05-25T18:02:37.408090Z"
    },
    "papermill": {
     "duration": 0.041298,
     "end_time": "2022-05-25T18:02:37.412186",
     "exception": false,
     "start_time": "2022-05-25T18:02:37.370888",
     "status": "completed"
    },
    "tags": []
   },
   "outputs": [],
   "source": [
    "A = {\"W\" : 20, \"F\" : 27, \"mF\" : 1, \"T\" : 100, \"p\" : 1.0, \"mT\" : 1}\n",
    "B = {\"W\" : 20, \"F\" : 27, \"mF\" : 2, \"T\" : 100, \"p\" : 1.0, \"mT\" : 2}\n",
    "C = {\"W\" : 10, \"F\" : 15, \"mF\" : 2, \"T\" : 70, \"p\" : 0.2, \"mT\" : 2}\n",
    "D = {\"W\" : 10, \"F\" : 27, \"mF\" : 2, \"T\" : 70, \"p\" : 1.0, \"mT\" : 2}\n",
    "E = {\"W\" : 10, \"F\" : 15, \"mF\" : 1, \"T\" : 70, \"p\" : 1.0, \"mT\" : 1}\n",
    "\n",
    "params_conv = {'latent_dim' : 20}\n",
    "\n",
    "data_augmentation = {'augment' : True, 'policy' : E, 'N' : 1}\n",
    "ms_prms = {\"n_mels\" : 256,\"n_fft\" : 1023,\"hop_length\" : 512,\"power\" : 2.0}\n",
    "\n",
    "N_crops = 9\n",
    "crop_width = 32\n",
    "\n",
    "train_dir = '../input/eurecom-aml-2022-challenge-2/eval_data/eval_data/slider/train'\n",
    "test_dir = '../input/eurecom-aml-2022-challenge-2/dev_data/dev_data/slider/test'"
   ]
  },
  {
   "cell_type": "code",
   "execution_count": 7,
   "id": "3d4510af",
   "metadata": {
    "execution": {
     "iopub.execute_input": "2022-05-25T18:02:37.468320Z",
     "iopub.status.busy": "2022-05-25T18:02:37.467964Z",
     "iopub.status.idle": "2022-05-25T18:05:15.669702Z",
     "shell.execute_reply": "2022-05-25T18:05:15.668681Z"
    },
    "papermill": {
     "duration": 158.232583,
     "end_time": "2022-05-25T18:05:15.672014",
     "exception": false,
     "start_time": "2022-05-25T18:02:37.439431",
     "status": "completed"
    },
    "tags": []
   },
   "outputs": [
    {
     "name": "stderr",
     "output_type": "stream",
     "text": [
      "100%|██████████| 2370/2370 [01:47<00:00, 22.08it/s]\n",
      "100%|██████████| 1101/1101 [00:49<00:00, 22.12it/s]\n"
     ]
    }
   ],
   "source": [
    "X_train  = load_sg_to_array_Conv(train_dir, data_aug = {'augment' : False, 'policy' : E, 'N' : 1},\n",
    "                                 n_mels=ms_prms['n_mels'], n_fft=ms_prms['n_fft'], hop_length=ms_prms['hop_length'], power=ms_prms['power'],\n",
    "                                 N_crops=N_crops, crop_width=crop_width)\n",
    "# X_aug_train = load_sg_to_array_Conv(train_dir, data_aug = data_augmentation,\n",
    "#                                 n_mels=ms_prms['n_mels'], n_fft=ms_prms['n_fft'], hop_length=ms_prms['hop_length'], power=ms_prms['power'], \n",
    "#                                 N_crops=N_crops, crop_width=crop_width)\n",
    "X_test  = load_sg_to_array_Conv(test_dir, data_aug = {'augment' : False, 'policy' : E, 'N' : 1},\n",
    "                                 n_mels=ms_prms['n_mels'], n_fft=ms_prms['n_fft'], hop_length=ms_prms['hop_length'], power=ms_prms['power'], \n",
    "                                 N_crops=N_crops, crop_width=crop_width)\n",
    "\n",
    "\n",
    "x_tst = X_test[:,:,:,None]\n",
    "x_tr = X_train[:,:,:,None]\n",
    "#x_aug_tr = np.copy(X_aug_train)[:,:,:,None]"
   ]
  },
  {
   "cell_type": "code",
   "execution_count": 8,
   "id": "2b2cfe89",
   "metadata": {
    "execution": {
     "iopub.execute_input": "2022-05-25T18:05:16.701182Z",
     "iopub.status.busy": "2022-05-25T18:05:16.700276Z",
     "iopub.status.idle": "2022-05-25T18:05:16.717327Z",
     "shell.execute_reply": "2022-05-25T18:05:16.716178Z"
    },
    "papermill": {
     "duration": 0.534899,
     "end_time": "2022-05-25T18:05:16.721482",
     "exception": false,
     "start_time": "2022-05-25T18:05:16.186583",
     "status": "completed"
    },
    "tags": []
   },
   "outputs": [
    {
     "name": "stderr",
     "output_type": "stream",
     "text": [
      "1101it [00:00, 396763.36it/s]\n"
     ]
    }
   ],
   "source": [
    "test_file_list = os.listdir(test_dir)\n",
    "y_test_crops = np.empty(x_tst.shape[0])\n",
    "y_test = np.empty(len(test_file_list))\n",
    "\n",
    "c = 0\n",
    "for idx, file in tqdm(enumerate(test_file_list)):\n",
    "    if file.find(\"normal\") == -1:\n",
    "        y_test[idx] = True\n",
    "        y_test_crops[c:c+N_crops] = True\n",
    "    else: \n",
    "        y_test[idx] = False\n",
    "        y_test_crops[c:c+N_crops] = False\n",
    "    c+=N_crops"
   ]
  },
  {
   "cell_type": "code",
   "execution_count": 9,
   "id": "eafda5f6",
   "metadata": {
    "execution": {
     "iopub.execute_input": "2022-05-25T18:05:17.774528Z",
     "iopub.status.busy": "2022-05-25T18:05:17.774224Z",
     "iopub.status.idle": "2022-05-25T18:05:17.782324Z",
     "shell.execute_reply": "2022-05-25T18:05:17.781159Z"
    },
    "papermill": {
     "duration": 0.537071,
     "end_time": "2022-05-25T18:05:17.785195",
     "exception": false,
     "start_time": "2022-05-25T18:05:17.248124",
     "status": "completed"
    },
    "tags": []
   },
   "outputs": [],
   "source": [
    "def combine_predicts(crop_predictions, mode='mean'):\n",
    "    c = 0\n",
    "    p = 0\n",
    "    predictions = []\n",
    "    while c <= len(crop_predictions)-5:\n",
    "        pred = crop_predictions[c:c+5]\n",
    "        if mode == 'min':\n",
    "            predictions.append(np.min(pred))\n",
    "        elif mode == 'max':\n",
    "            predictions.append(np.max(pred))\n",
    "        elif mode == 'mean':\n",
    "            predictions.append(np.mean(pred))\n",
    "        else:\n",
    "            raise ValueError('Unknown mode')\n",
    "        p+=1\n",
    "        c+=N_crops\n",
    "    return np.array(predictions)"
   ]
  },
  {
   "cell_type": "code",
   "execution_count": 10,
   "id": "c2e60b31",
   "metadata": {
    "execution": {
     "iopub.execute_input": "2022-05-25T18:05:18.839437Z",
     "iopub.status.busy": "2022-05-25T18:05:18.838794Z",
     "iopub.status.idle": "2022-05-25T18:05:18.844121Z",
     "shell.execute_reply": "2022-05-25T18:05:18.843120Z"
    },
    "papermill": {
     "duration": 0.536041,
     "end_time": "2022-05-25T18:05:18.846375",
     "exception": false,
     "start_time": "2022-05-25T18:05:18.310334",
     "status": "completed"
    },
    "tags": []
   },
   "outputs": [],
   "source": [
    "original_dim = X_train.shape[1:3]\n",
    "input_shape = (original_dim,)\n",
    "latent_dim = params_conv['latent_dim']"
   ]
  },
  {
   "cell_type": "code",
   "execution_count": 11,
   "id": "e9bc4e0a",
   "metadata": {
    "execution": {
     "iopub.execute_input": "2022-05-25T18:05:19.892387Z",
     "iopub.status.busy": "2022-05-25T18:05:19.892049Z",
     "iopub.status.idle": "2022-05-25T18:05:20.441088Z",
     "shell.execute_reply": "2022-05-25T18:05:20.440084Z"
    },
    "papermill": {
     "duration": 1.075456,
     "end_time": "2022-05-25T18:05:20.443607",
     "exception": false,
     "start_time": "2022-05-25T18:05:19.368151",
     "status": "completed"
    },
    "tags": []
   },
   "outputs": [
    {
     "name": "stderr",
     "output_type": "stream",
     "text": [
      "2022-05-25 18:05:20.072159: I tensorflow/stream_executor/cuda/cuda_gpu_executor.cc:937] successful NUMA node read from SysFS had negative value (-1), but there must be at least one NUMA node, so returning NUMA node zero\n",
      "2022-05-25 18:05:20.073904: I tensorflow/stream_executor/cuda/cuda_gpu_executor.cc:937] successful NUMA node read from SysFS had negative value (-1), but there must be at least one NUMA node, so returning NUMA node zero\n",
      "2022-05-25 18:05:20.074951: I tensorflow/stream_executor/cuda/cuda_gpu_executor.cc:937] successful NUMA node read from SysFS had negative value (-1), but there must be at least one NUMA node, so returning NUMA node zero\n"
     ]
    }
   ],
   "source": [
    "input_img = Input(shape=(original_dim[0], original_dim[1], 1))\n",
    "initializer = tf.keras.initializers.GlorotNormal()\n",
    "#initializer = tf.keras.initializers.Zeros()\n",
    "x = Conv2D(32, (5, 5),strides=(2,1), padding='same',kernel_initializer=initializer)(input_img)   #256x64 -> 128x64\n",
    "x = BatchNormalization()(x)\n",
    "x = Activation('relu')(x)\n",
    "x = Conv2D(64, (5, 5),strides=(2,2), padding='same',kernel_initializer=initializer)(x)           #64x64 Changed stride\n",
    "x = BatchNormalization()(x)\n",
    "x = Activation('relu')(x)\n",
    "x = Conv2D(128, (5, 5),strides=(2,1), padding='same',kernel_initializer=initializer)(x)          #32x32\n",
    "x = BatchNormalization()(x)\n",
    "x = Activation('relu')(x)\n",
    "x = Conv2D(256, (3, 3),strides=(2,2), padding='same',kernel_initializer=initializer)(x)          #16x16\n",
    "x = BatchNormalization()(x)\n",
    "x = Activation('relu')(x)\n",
    "x = Conv2D(512, (3, 3),strides=(2,2), padding='same',kernel_initializer=initializer)(x)          #8x8\n",
    "x = BatchNormalization()(x)\n",
    "x = Activation('relu')(x)\n",
    "\n",
    "#temp_model = Model(inputs=input_img, outputs=x)\n",
    "#temp_model.summary()"
   ]
  },
  {
   "cell_type": "code",
   "execution_count": 12,
   "id": "cc71aa0c",
   "metadata": {
    "execution": {
     "iopub.execute_input": "2022-05-25T18:05:21.815796Z",
     "iopub.status.busy": "2022-05-25T18:05:21.815509Z",
     "iopub.status.idle": "2022-05-25T18:05:21.841764Z",
     "shell.execute_reply": "2022-05-25T18:05:21.840861Z"
    },
    "papermill": {
     "duration": 0.871376,
     "end_time": "2022-05-25T18:05:21.843984",
     "exception": false,
     "start_time": "2022-05-25T18:05:20.972608",
     "status": "completed"
    },
    "tags": []
   },
   "outputs": [],
   "source": [
    "volumeSize = K.int_shape(x)\n",
    "\n",
    "x = Conv2D(latent_dim, (4,4), strides=(1,1), padding='valid')(x)\n",
    "encoded = Flatten()(x)\n",
    "# z_mean = Dense(latent_dim)(encoded)\n",
    "# z_log_var = Dense(latent_dim)(encoded)\n",
    "# z = Lambda(sample, output_shape=(latent_dim,), name='z')([z_mean, z_log_var])"
   ]
  },
  {
   "cell_type": "code",
   "execution_count": 13,
   "id": "8f782d33",
   "metadata": {
    "execution": {
     "iopub.execute_input": "2022-05-25T18:05:22.900804Z",
     "iopub.status.busy": "2022-05-25T18:05:22.900510Z",
     "iopub.status.idle": "2022-05-25T18:05:23.406468Z",
     "shell.execute_reply": "2022-05-25T18:05:23.405478Z"
    },
    "papermill": {
     "duration": 1.030704,
     "end_time": "2022-05-25T18:05:23.409263",
     "exception": false,
     "start_time": "2022-05-25T18:05:22.378559",
     "status": "completed"
    },
    "tags": []
   },
   "outputs": [],
   "source": [
    "x = Dense(volumeSize[1] * volumeSize[2] * volumeSize[3])(encoded) \n",
    "x = Reshape((volumeSize[1], volumeSize[2], 512))(x)                #8x8\n",
    "\n",
    "x = Conv2DTranspose(256, (3, 3),strides=(2,2), padding='same',kernel_initializer=initializer)(x)  #16x16\n",
    "x = BatchNormalization()(x)\n",
    "x = Activation('relu')(x)\n",
    "x = Conv2DTranspose(128, (3, 3),strides=(2,2), padding='same',kernel_initializer=initializer)(x)  #32x32   \n",
    "x = BatchNormalization()(x)\n",
    "x = Activation('relu')(x)\n",
    "x = Conv2DTranspose(64, (5, 5),strides=(2,2), padding='same',kernel_initializer=initializer)(x)   #64x64\n",
    "x = BatchNormalization()(x)\n",
    "x = Activation('relu')(x)\n",
    "x = Conv2DTranspose(32, (5, 5),strides=(2,1), padding='same',kernel_initializer=initializer)(x)   #128x64\n",
    "x = BatchNormalization()(x)\n",
    "x = Activation('relu')(x)\n",
    "x = Conv2DTranspose(16, (5, 5),strides=(2,1), padding='same',kernel_initializer=initializer)(x)   #256x64\n",
    "x = BatchNormalization()(x)\n",
    "x = Activation('relu')(x)\n",
    "\n",
    "decoded = Conv2DTranspose(1, (5, 5), padding='same')(x)\n",
    "conv_AE = Model(inputs=input_img, outputs=decoded)\n",
    "# conv_AE.summary()"
   ]
  },
  {
   "cell_type": "code",
   "execution_count": 14,
   "id": "e8048545",
   "metadata": {
    "execution": {
     "iopub.execute_input": "2022-05-25T18:05:24.572246Z",
     "iopub.status.busy": "2022-05-25T18:05:24.571773Z",
     "iopub.status.idle": "2022-05-25T18:05:24.643541Z",
     "shell.execute_reply": "2022-05-25T18:05:24.642503Z"
    },
    "papermill": {
     "duration": 0.715996,
     "end_time": "2022-05-25T18:05:24.646640",
     "exception": false,
     "start_time": "2022-05-25T18:05:23.930644",
     "status": "completed"
    },
    "tags": []
   },
   "outputs": [
    {
     "name": "stdout",
     "output_type": "stream",
     "text": [
      "Model: \"model\"\n",
      "_________________________________________________________________\n",
      "Layer (type)                 Output Shape              Param #   \n",
      "=================================================================\n",
      "input_1 (InputLayer)         [(None, 256, 32, 1)]      0         \n",
      "_________________________________________________________________\n",
      "conv2d (Conv2D)              (None, 128, 32, 32)       832       \n",
      "_________________________________________________________________\n",
      "batch_normalization (BatchNo (None, 128, 32, 32)       128       \n",
      "_________________________________________________________________\n",
      "activation (Activation)      (None, 128, 32, 32)       0         \n",
      "_________________________________________________________________\n",
      "conv2d_1 (Conv2D)            (None, 64, 16, 64)        51264     \n",
      "_________________________________________________________________\n",
      "batch_normalization_1 (Batch (None, 64, 16, 64)        256       \n",
      "_________________________________________________________________\n",
      "activation_1 (Activation)    (None, 64, 16, 64)        0         \n",
      "_________________________________________________________________\n",
      "conv2d_2 (Conv2D)            (None, 32, 16, 128)       204928    \n",
      "_________________________________________________________________\n",
      "batch_normalization_2 (Batch (None, 32, 16, 128)       512       \n",
      "_________________________________________________________________\n",
      "activation_2 (Activation)    (None, 32, 16, 128)       0         \n",
      "_________________________________________________________________\n",
      "conv2d_3 (Conv2D)            (None, 16, 8, 256)        295168    \n",
      "_________________________________________________________________\n",
      "batch_normalization_3 (Batch (None, 16, 8, 256)        1024      \n",
      "_________________________________________________________________\n",
      "activation_3 (Activation)    (None, 16, 8, 256)        0         \n",
      "_________________________________________________________________\n",
      "conv2d_4 (Conv2D)            (None, 8, 4, 512)         1180160   \n",
      "_________________________________________________________________\n",
      "batch_normalization_4 (Batch (None, 8, 4, 512)         2048      \n",
      "_________________________________________________________________\n",
      "activation_4 (Activation)    (None, 8, 4, 512)         0         \n",
      "_________________________________________________________________\n",
      "conv2d_5 (Conv2D)            (None, 5, 1, 20)          163860    \n",
      "_________________________________________________________________\n",
      "flatten (Flatten)            (None, 100)               0         \n",
      "_________________________________________________________________\n",
      "dense (Dense)                (None, 16384)             1654784   \n",
      "_________________________________________________________________\n",
      "reshape (Reshape)            (None, 8, 4, 512)         0         \n",
      "_________________________________________________________________\n",
      "conv2d_transpose (Conv2DTran (None, 16, 8, 256)        1179904   \n",
      "_________________________________________________________________\n",
      "batch_normalization_5 (Batch (None, 16, 8, 256)        1024      \n",
      "_________________________________________________________________\n",
      "activation_5 (Activation)    (None, 16, 8, 256)        0         \n",
      "_________________________________________________________________\n",
      "conv2d_transpose_1 (Conv2DTr (None, 32, 16, 128)       295040    \n",
      "_________________________________________________________________\n",
      "batch_normalization_6 (Batch (None, 32, 16, 128)       512       \n",
      "_________________________________________________________________\n",
      "activation_6 (Activation)    (None, 32, 16, 128)       0         \n",
      "_________________________________________________________________\n",
      "conv2d_transpose_2 (Conv2DTr (None, 64, 32, 64)        204864    \n",
      "_________________________________________________________________\n",
      "batch_normalization_7 (Batch (None, 64, 32, 64)        256       \n",
      "_________________________________________________________________\n",
      "activation_7 (Activation)    (None, 64, 32, 64)        0         \n",
      "_________________________________________________________________\n",
      "conv2d_transpose_3 (Conv2DTr (None, 128, 32, 32)       51232     \n",
      "_________________________________________________________________\n",
      "batch_normalization_8 (Batch (None, 128, 32, 32)       128       \n",
      "_________________________________________________________________\n",
      "activation_8 (Activation)    (None, 128, 32, 32)       0         \n",
      "_________________________________________________________________\n",
      "conv2d_transpose_4 (Conv2DTr (None, 256, 32, 16)       12816     \n",
      "_________________________________________________________________\n",
      "batch_normalization_9 (Batch (None, 256, 32, 16)       64        \n",
      "_________________________________________________________________\n",
      "activation_9 (Activation)    (None, 256, 32, 16)       0         \n",
      "_________________________________________________________________\n",
      "conv2d_transpose_5 (Conv2DTr (None, 256, 32, 1)        401       \n",
      "=================================================================\n",
      "Total params: 5,301,205\n",
      "Trainable params: 5,298,229\n",
      "Non-trainable params: 2,976\n",
      "_________________________________________________________________\n"
     ]
    }
   ],
   "source": [
    "opt = optimizers.Adam(learning_rate=0.001, clipvalue=0.5)\n",
    "#opt = optimizers.RMSprop(learning_rate=0.0001)\n",
    "top_score = 0\n",
    "weight_best_model = None\n",
    "conv_AE.compile(optimizer=opt, loss=\"mse\")\n",
    "conv_AE.summary()\n",
    "# Finally, we train the model:"
   ]
  },
  {
   "cell_type": "code",
   "execution_count": 15,
   "id": "6404e348",
   "metadata": {
    "execution": {
     "iopub.execute_input": "2022-05-25T18:05:26.226548Z",
     "iopub.status.busy": "2022-05-25T18:05:26.226246Z",
     "iopub.status.idle": "2022-05-25T18:05:26.234235Z",
     "shell.execute_reply": "2022-05-25T18:05:26.233262Z"
    },
    "papermill": {
     "duration": 0.686942,
     "end_time": "2022-05-25T18:05:26.236531",
     "exception": false,
     "start_time": "2022-05-25T18:05:25.549589",
     "status": "completed"
    },
    "tags": []
   },
   "outputs": [],
   "source": [
    "class CustomCallback(keras.callbacks.Callback):\n",
    "    def on_epoch_end(self, epoch, logs=None):\n",
    "        X_test_pred = conv_AE.predict(x_tst)[:,:,:,0]\n",
    "        x_tst_3 = x_tst[:,:,:,0]\n",
    "        mae_vector_test = np.zeros(X_test_pred.shape[0])\n",
    "        for idx, x_pred in tqdm(enumerate(X_test_pred)):\n",
    "            mae_vector_test[idx] = np.mean((np.absolute((x_pred-x_tst_3[idx]))))\n",
    "        y_test_predict = combine_predicts(mae_vector_test, mode='mean')\n",
    "        auc_val_score = roc_auc_score(y_test, y_test_predict)\n",
    "        print(auc_val_score)\n",
    "        if auc_val_score > top_score:\n",
    "            weight_best_model = conv_AE.get_weights()"
   ]
  },
  {
   "cell_type": "code",
   "execution_count": 16,
   "id": "054399e6",
   "metadata": {
    "execution": {
     "iopub.execute_input": "2022-05-25T18:05:27.276481Z",
     "iopub.status.busy": "2022-05-25T18:05:27.276185Z",
     "iopub.status.idle": "2022-05-25T18:14:40.999409Z",
     "shell.execute_reply": "2022-05-25T18:14:40.997982Z"
    },
    "papermill": {
     "duration": 554.244453,
     "end_time": "2022-05-25T18:14:41.002562",
     "exception": false,
     "start_time": "2022-05-25T18:05:26.758109",
     "status": "completed"
    },
    "tags": []
   },
   "outputs": [
    {
     "name": "stdout",
     "output_type": "stream",
     "text": [
      "Train on 21330 samples\n",
      "Epoch 1/20\n"
     ]
    },
    {
     "name": "stderr",
     "output_type": "stream",
     "text": [
      "2022-05-25 18:05:28.740134: I tensorflow/core/platform/cpu_feature_guard.cc:142] This TensorFlow binary is optimized with oneAPI Deep Neural Network Library (oneDNN) to use the following CPU instructions in performance-critical operations:  AVX2 FMA\n",
      "To enable them in other operations, rebuild TensorFlow with the appropriate compiler flags.\n",
      "2022-05-25 18:05:28.741400: I tensorflow/stream_executor/cuda/cuda_gpu_executor.cc:937] successful NUMA node read from SysFS had negative value (-1), but there must be at least one NUMA node, so returning NUMA node zero\n",
      "2022-05-25 18:05:28.743051: I tensorflow/stream_executor/cuda/cuda_gpu_executor.cc:937] successful NUMA node read from SysFS had negative value (-1), but there must be at least one NUMA node, so returning NUMA node zero\n",
      "2022-05-25 18:05:28.744613: I tensorflow/stream_executor/cuda/cuda_gpu_executor.cc:937] successful NUMA node read from SysFS had negative value (-1), but there must be at least one NUMA node, so returning NUMA node zero\n",
      "2022-05-25 18:05:34.590849: I tensorflow/stream_executor/cuda/cuda_gpu_executor.cc:937] successful NUMA node read from SysFS had negative value (-1), but there must be at least one NUMA node, so returning NUMA node zero\n",
      "2022-05-25 18:05:34.592667: I tensorflow/stream_executor/cuda/cuda_gpu_executor.cc:937] successful NUMA node read from SysFS had negative value (-1), but there must be at least one NUMA node, so returning NUMA node zero\n",
      "2022-05-25 18:05:34.593937: I tensorflow/stream_executor/cuda/cuda_gpu_executor.cc:937] successful NUMA node read from SysFS had negative value (-1), but there must be at least one NUMA node, so returning NUMA node zero\n",
      "2022-05-25 18:05:34.596013: I tensorflow/core/common_runtime/gpu/gpu_device.cc:1510] Created device /job:localhost/replica:0/task:0/device:GPU:0 with 14969 MB memory:  -> device: 0, name: Tesla P100-PCIE-16GB, pci bus id: 0000:00:04.0, compute capability: 6.0\n",
      "2022-05-25 18:05:37.698795: I tensorflow/stream_executor/cuda/cuda_dnn.cc:369] Loaded cuDNN version 8005\n"
     ]
    },
    {
     "name": "stdout",
     "output_type": "stream",
     "text": [
      "21330/21330 [==============================] - ETA: 0s - loss: 627.1861"
     ]
    },
    {
     "name": "stderr",
     "output_type": "stream",
     "text": [
      "/opt/conda/lib/python3.7/site-packages/keras/engine/training.py:2470: UserWarning: `Model.state_updates` will be removed in a future version. This property should not be used in TensorFlow 2.0, as `updates` are applied automatically.\n",
      "  warnings.warn('`Model.state_updates` will be removed in a future version. '\n",
      "9909it [00:00, 15784.53it/s]\n"
     ]
    },
    {
     "name": "stdout",
     "output_type": "stream",
     "text": [
      "0.2131960049937578\n",
      "21330/21330 [==============================] - 45s 2ms/sample - loss: 627.1861\n",
      "Epoch 2/20\n",
      "21330/21330 [==============================] - ETA: 0s - loss: 74.7307"
     ]
    },
    {
     "name": "stderr",
     "output_type": "stream",
     "text": [
      "9909it [00:00, 17030.46it/s]\n"
     ]
    },
    {
     "name": "stdout",
     "output_type": "stream",
     "text": [
      "0.7178318768206409\n",
      "21330/21330 [==============================] - 27s 1ms/sample - loss: 74.7307\n",
      "Epoch 3/20\n",
      "21330/21330 [==============================] - ETA: 0s - loss: 21.7445"
     ]
    },
    {
     "name": "stderr",
     "output_type": "stream",
     "text": [
      "9909it [00:00, 16018.93it/s]"
     ]
    },
    {
     "name": "stdout",
     "output_type": "stream",
     "text": [
      "0.38559300873907615\n",
      "21330/21330 [==============================] - 27s 1ms/sample - loss: 21.7445\n"
     ]
    },
    {
     "name": "stderr",
     "output_type": "stream",
     "text": [
      "\n"
     ]
    },
    {
     "name": "stdout",
     "output_type": "stream",
     "text": [
      "Epoch 4/20\n",
      "21330/21330 [==============================] - ETA: 0s - loss: 19.4810"
     ]
    },
    {
     "name": "stderr",
     "output_type": "stream",
     "text": [
      "9909it [00:01, 8895.92it/s]\n"
     ]
    },
    {
     "name": "stdout",
     "output_type": "stream",
     "text": [
      "0.3622222222222222\n",
      "21330/21330 [==============================] - 27s 1ms/sample - loss: 19.4810\n",
      "Epoch 5/20\n",
      "21330/21330 [==============================] - ETA: 0s - loss: 18.4476"
     ]
    },
    {
     "name": "stderr",
     "output_type": "stream",
     "text": [
      "9909it [00:00, 16518.85it/s]\n"
     ]
    },
    {
     "name": "stdout",
     "output_type": "stream",
     "text": [
      "0.40973782771535583\n",
      "21330/21330 [==============================] - 27s 1ms/sample - loss: 18.4476\n",
      "Epoch 6/20\n",
      "21330/21330 [==============================] - ETA: 0s - loss: 17.8539"
     ]
    },
    {
     "name": "stderr",
     "output_type": "stream",
     "text": [
      "9909it [00:00, 17151.75it/s]\n"
     ]
    },
    {
     "name": "stdout",
     "output_type": "stream",
     "text": [
      "0.3601373283395755\n",
      "21330/21330 [==============================] - 27s 1ms/sample - loss: 17.8539\n",
      "Epoch 7/20\n",
      "21330/21330 [==============================] - ETA: 0s - loss: 17.4444"
     ]
    },
    {
     "name": "stderr",
     "output_type": "stream",
     "text": [
      "9909it [00:00, 16899.46it/s]\n"
     ]
    },
    {
     "name": "stdout",
     "output_type": "stream",
     "text": [
      "0.6827257594673325\n",
      "21330/21330 [==============================] - 27s 1ms/sample - loss: 17.4444\n",
      "Epoch 8/20\n",
      "21330/21330 [==============================] - ETA: 0s - loss: 17.1382"
     ]
    },
    {
     "name": "stderr",
     "output_type": "stream",
     "text": [
      "9909it [00:00, 17295.51it/s]"
     ]
    },
    {
     "name": "stdout",
     "output_type": "stream",
     "text": [
      "0.6258218893050354\n",
      "21330/21330 [==============================] - 27s 1ms/sample - loss: 17.1382\n"
     ]
    },
    {
     "name": "stderr",
     "output_type": "stream",
     "text": [
      "\n"
     ]
    },
    {
     "name": "stdout",
     "output_type": "stream",
     "text": [
      "Epoch 9/20\n",
      "21330/21330 [==============================] - ETA: 0s - loss: 16.9312"
     ]
    },
    {
     "name": "stderr",
     "output_type": "stream",
     "text": [
      "9909it [00:00, 17025.65it/s]\n"
     ]
    },
    {
     "name": "stdout",
     "output_type": "stream",
     "text": [
      "0.7979151061173533\n",
      "21330/21330 [==============================] - 26s 1ms/sample - loss: 16.9312\n",
      "Epoch 10/20\n",
      "21330/21330 [==============================] - ETA: 0s - loss: 16.7354"
     ]
    },
    {
     "name": "stderr",
     "output_type": "stream",
     "text": [
      "9909it [00:00, 10870.67it/s]"
     ]
    },
    {
     "name": "stdout",
     "output_type": "stream",
     "text": [
      "0.7425509779442364\n",
      "21330/21330 [==============================] - 27s 1ms/sample - loss: 16.7354\n"
     ]
    },
    {
     "name": "stderr",
     "output_type": "stream",
     "text": [
      "\n"
     ]
    },
    {
     "name": "stdout",
     "output_type": "stream",
     "text": [
      "Epoch 11/20\n",
      "21330/21330 [==============================] - ETA: 0s - loss: 16.5668"
     ]
    },
    {
     "name": "stderr",
     "output_type": "stream",
     "text": [
      "9909it [00:00, 16427.39it/s]"
     ]
    },
    {
     "name": "stdout",
     "output_type": "stream",
     "text": [
      "0.7725884311277569\n",
      "21330/21330 [==============================] - 27s 1ms/sample - loss: 16.5668\n"
     ]
    },
    {
     "name": "stderr",
     "output_type": "stream",
     "text": [
      "\n"
     ]
    },
    {
     "name": "stdout",
     "output_type": "stream",
     "text": [
      "Epoch 12/20\n",
      "21330/21330 [==============================] - ETA: 0s - loss: 16.4514"
     ]
    },
    {
     "name": "stderr",
     "output_type": "stream",
     "text": [
      "9909it [00:00, 17138.97it/s]\n"
     ]
    },
    {
     "name": "stdout",
     "output_type": "stream",
     "text": [
      "0.772742405326675\n",
      "21330/21330 [==============================] - 27s 1ms/sample - loss: 16.4514\n",
      "Epoch 13/20\n",
      "21330/21330 [==============================] - ETA: 0s - loss: 16.3326"
     ]
    },
    {
     "name": "stderr",
     "output_type": "stream",
     "text": [
      "9909it [00:00, 16702.26it/s]\n"
     ]
    },
    {
     "name": "stdout",
     "output_type": "stream",
     "text": [
      "0.7619766957969205\n",
      "21330/21330 [==============================] - 27s 1ms/sample - loss: 16.3326\n",
      "Epoch 14/20\n",
      "21330/21330 [==============================] - ETA: 0s - loss: 16.2703"
     ]
    },
    {
     "name": "stderr",
     "output_type": "stream",
     "text": [
      "9909it [00:00, 11986.92it/s]"
     ]
    },
    {
     "name": "stdout",
     "output_type": "stream",
     "text": [
      "0.7502829796088224\n",
      "21330/21330 [==============================] - 27s 1ms/sample - loss: 16.2703\n"
     ]
    },
    {
     "name": "stderr",
     "output_type": "stream",
     "text": [
      "\n"
     ]
    },
    {
     "name": "stdout",
     "output_type": "stream",
     "text": [
      "Epoch 15/20\n",
      "21330/21330 [==============================] - ETA: 0s - loss: 16.1773"
     ]
    },
    {
     "name": "stderr",
     "output_type": "stream",
     "text": [
      "9909it [00:00, 16924.37it/s]\n"
     ]
    },
    {
     "name": "stdout",
     "output_type": "stream",
     "text": [
      "0.7658635039533918\n",
      "21330/21330 [==============================] - 27s 1ms/sample - loss: 16.1773\n",
      "Epoch 16/20\n",
      "21330/21330 [==============================] - ETA: 0s - loss: 16.1031"
     ]
    },
    {
     "name": "stderr",
     "output_type": "stream",
     "text": [
      "9909it [00:00, 12679.88it/s]"
     ]
    },
    {
     "name": "stdout",
     "output_type": "stream",
     "text": [
      "0.7629463171036205\n",
      "21330/21330 [==============================] - 27s 1ms/sample - loss: 16.1031\n"
     ]
    },
    {
     "name": "stderr",
     "output_type": "stream",
     "text": [
      "\n"
     ]
    },
    {
     "name": "stdout",
     "output_type": "stream",
     "text": [
      "Epoch 17/20\n",
      "21330/21330 [==============================] - ETA: 0s - loss: 16.0517"
     ]
    },
    {
     "name": "stderr",
     "output_type": "stream",
     "text": [
      "9909it [00:00, 16919.20it/s]\n"
     ]
    },
    {
     "name": "stdout",
     "output_type": "stream",
     "text": [
      "0.7454223886808156\n",
      "21330/21330 [==============================] - 27s 1ms/sample - loss: 16.0517\n",
      "Epoch 18/20\n",
      "21330/21330 [==============================] - ETA: 0s - loss: 16.0593"
     ]
    },
    {
     "name": "stderr",
     "output_type": "stream",
     "text": [
      "9909it [00:00, 17138.15it/s]\n"
     ]
    },
    {
     "name": "stdout",
     "output_type": "stream",
     "text": [
      "0.7586766541822723\n",
      "21330/21330 [==============================] - 27s 1ms/sample - loss: 16.0593\n",
      "Epoch 19/20\n",
      "21330/21330 [==============================] - ETA: 0s - loss: 16.0088"
     ]
    },
    {
     "name": "stderr",
     "output_type": "stream",
     "text": [
      "9909it [00:00, 10408.21it/s]"
     ]
    },
    {
     "name": "stdout",
     "output_type": "stream",
     "text": [
      "0.7542238868081566\n",
      "21330/21330 [==============================] - 27s 1ms/sample - loss: 16.0088\n"
     ]
    },
    {
     "name": "stderr",
     "output_type": "stream",
     "text": [
      "\n"
     ]
    },
    {
     "name": "stdout",
     "output_type": "stream",
     "text": [
      "Epoch 20/20\n",
      "21330/21330 [==============================] - ETA: 0s - loss: 15.9268"
     ]
    },
    {
     "name": "stderr",
     "output_type": "stream",
     "text": [
      "9909it [00:00, 16851.51it/s]\n"
     ]
    },
    {
     "name": "stdout",
     "output_type": "stream",
     "text": [
      "0.7573616312942156\n",
      "21330/21330 [==============================] - 27s 1ms/sample - loss: 15.9268\n"
     ]
    }
   ],
   "source": [
    "results = conv_AE.fit(x_tr, x_tr,shuffle=True,epochs=20, batch_size=254, callbacks=[CustomCallback()])"
   ]
  },
  {
   "cell_type": "code",
   "execution_count": 17,
   "id": "48435f40",
   "metadata": {
    "execution": {
     "iopub.execute_input": "2022-05-25T18:14:43.906335Z",
     "iopub.status.busy": "2022-05-25T18:14:43.906043Z",
     "iopub.status.idle": "2022-05-25T18:14:48.786395Z",
     "shell.execute_reply": "2022-05-25T18:14:48.785203Z"
    },
    "papermill": {
     "duration": 6.247574,
     "end_time": "2022-05-25T18:14:48.789238",
     "exception": false,
     "start_time": "2022-05-25T18:14:42.541664",
     "status": "completed"
    },
    "tags": []
   },
   "outputs": [
    {
     "name": "stderr",
     "output_type": "stream",
     "text": [
      "9909it [00:00, 17118.26it/s]\n"
     ]
    }
   ],
   "source": [
    "#conv_AE.set_weights(weight_best_model) \n",
    "X_test_pred = conv_AE.predict(x_tst)[:,:,:,0]\n",
    "x_tst_3 = x_tst[:,:,:,0]\n",
    "mae_vector_test = np.zeros(X_test_pred.shape[0])\n",
    "for idx, x_pred in tqdm(enumerate(X_test_pred)):\n",
    "    mae_vector_test[idx] = np.mean((np.absolute((x_pred-x_tst_3[idx]))))"
   ]
  },
  {
   "cell_type": "code",
   "execution_count": 18,
   "id": "613238d4",
   "metadata": {
    "execution": {
     "iopub.execute_input": "2022-05-25T18:14:51.401008Z",
     "iopub.status.busy": "2022-05-25T18:14:51.400723Z",
     "iopub.status.idle": "2022-05-25T18:14:51.421417Z",
     "shell.execute_reply": "2022-05-25T18:14:51.420376Z"
    },
    "papermill": {
     "duration": 1.314111,
     "end_time": "2022-05-25T18:14:51.423540",
     "exception": false,
     "start_time": "2022-05-25T18:14:50.109429",
     "status": "completed"
    },
    "tags": []
   },
   "outputs": [],
   "source": [
    "y_test_predict = combine_predicts(mae_vector_test, mode='mean')"
   ]
  },
  {
   "cell_type": "code",
   "execution_count": 19,
   "id": "b1f37323",
   "metadata": {
    "execution": {
     "iopub.execute_input": "2022-05-25T18:14:54.347055Z",
     "iopub.status.busy": "2022-05-25T18:14:54.346183Z",
     "iopub.status.idle": "2022-05-25T18:14:54.359580Z",
     "shell.execute_reply": "2022-05-25T18:14:54.358476Z"
    },
    "papermill": {
     "duration": 1.646839,
     "end_time": "2022-05-25T18:14:54.362752",
     "exception": false,
     "start_time": "2022-05-25T18:14:52.715913",
     "status": "completed"
    },
    "tags": []
   },
   "outputs": [
    {
     "data": {
      "text/plain": [
       "0.7573616312942156"
      ]
     },
     "execution_count": 19,
     "metadata": {},
     "output_type": "execute_result"
    }
   ],
   "source": [
    "roc_auc_score(y_test, y_test_predict)"
   ]
  },
  {
   "cell_type": "markdown",
   "id": "6a58b9af",
   "metadata": {
    "papermill": {
     "duration": 1.284167,
     "end_time": "2022-05-25T18:14:56.943346",
     "exception": false,
     "start_time": "2022-05-25T18:14:55.659179",
     "status": "completed"
    },
    "tags": []
   },
   "source": [
    "## Submission"
   ]
  },
  {
   "cell_type": "code",
   "execution_count": 20,
   "id": "25632481",
   "metadata": {
    "execution": {
     "iopub.execute_input": "2022-05-25T18:14:59.495317Z",
     "iopub.status.busy": "2022-05-25T18:14:59.494979Z",
     "iopub.status.idle": "2022-05-25T18:15:41.235792Z",
     "shell.execute_reply": "2022-05-25T18:15:41.233606Z"
    },
    "papermill": {
     "duration": 43.021238,
     "end_time": "2022-05-25T18:15:41.238576",
     "exception": false,
     "start_time": "2022-05-25T18:14:58.217338",
     "status": "completed"
    },
    "tags": []
   },
   "outputs": [
    {
     "name": "stderr",
     "output_type": "stream",
     "text": [
      "100%|██████████| 834/834 [00:37<00:00, 22.46it/s]\n",
      "7506it [00:00, 16320.33it/s]\n"
     ]
    }
   ],
   "source": [
    "import gc\n",
    "gc.collect()\n",
    "del X_train, x_tr\n",
    "submit_dir = '../input/eurecom-aml-2022-challenge-2/eval_data/eval_data/slider/test'\n",
    "X_submit  = load_sg_to_array_Conv(submit_dir, data_aug = {'augment' : False, 'policy' : E, 'N' : 1},\n",
    "                             n_mels=ms_prms['n_mels'], n_fft=ms_prms['n_fft'], hop_length=ms_prms['hop_length'], power=ms_prms['power'], \n",
    "                             N_crops=N_crops, crop_width=crop_width)\n",
    "x_sbmt = np.copy(X_submit)[:,:,:,None]\n",
    "x_sbmt_3 = x_sbmt[:,:,:,0]\n",
    "X_submit_pred = conv_AE.predict(x_sbmt)[:,:,:,0]\n",
    "mae_vector_submit = np.zeros(X_submit_pred.shape[0])\n",
    "for idx, x_pred in tqdm(enumerate(X_submit_pred)):\n",
    "    mae_vector_submit[idx] = np.mean((np.absolute((x_pred-x_sbmt_3[idx]))))\n",
    "y_submit_predict = combine_predicts(mae_vector_submit, mode='max')"
   ]
  },
  {
   "cell_type": "code",
   "execution_count": 21,
   "id": "d6c6545c",
   "metadata": {
    "execution": {
     "iopub.execute_input": "2022-05-25T18:15:44.139877Z",
     "iopub.status.busy": "2022-05-25T18:15:44.139578Z",
     "iopub.status.idle": "2022-05-25T18:15:44.157886Z",
     "shell.execute_reply": "2022-05-25T18:15:44.156968Z"
    },
    "papermill": {
     "duration": 1.50411,
     "end_time": "2022-05-25T18:15:44.160507",
     "exception": false,
     "start_time": "2022-05-25T18:15:42.656397",
     "status": "completed"
    },
    "tags": []
   },
   "outputs": [],
   "source": [
    "import pandas as pd\n",
    "submit_files = os.listdir(submit_dir)\n",
    "df_submit = pd.DataFrame({'file_name': submit_files, 'anomaly_score': y_submit_predict})\n",
    "df_submit.to_csv('submission.csv', index=False)"
   ]
  },
  {
   "cell_type": "code",
   "execution_count": null,
   "id": "28ae86ac",
   "metadata": {
    "papermill": {
     "duration": 1.441369,
     "end_time": "2022-05-25T18:15:47.041793",
     "exception": false,
     "start_time": "2022-05-25T18:15:45.600424",
     "status": "completed"
    },
    "tags": []
   },
   "outputs": [],
   "source": []
  }
 ],
 "metadata": {
  "kernelspec": {
   "display_name": "Python 3",
   "language": "python",
   "name": "python3"
  },
  "language_info": {
   "codemirror_mode": {
    "name": "ipython",
    "version": 3
   },
   "file_extension": ".py",
   "mimetype": "text/x-python",
   "name": "python",
   "nbconvert_exporter": "python",
   "pygments_lexer": "ipython3",
   "version": "3.7.12"
  },
  "papermill": {
   "default_parameters": {},
   "duration": 816.803869,
   "end_time": "2022-05-25T18:15:52.311145",
   "environment_variables": {},
   "exception": null,
   "input_path": "__notebook__.ipynb",
   "output_path": "__notebook__.ipynb",
   "parameters": {},
   "start_time": "2022-05-25T18:02:15.507276",
   "version": "2.3.4"
  }
 },
 "nbformat": 4,
 "nbformat_minor": 5
}
